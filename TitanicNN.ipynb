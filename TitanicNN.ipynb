{
  "nbformat": 4,
  "nbformat_minor": 0,
  "metadata": {
    "colab": {
      "name": "TitanicNN.ipynb",
      "provenance": [],
      "collapsed_sections": []
    },
    "kernelspec": {
      "name": "python3",
      "display_name": "Python 3"
    }
  },
  "cells": [
    {
      "cell_type": "code",
      "metadata": {
        "id": "Rwl26KW1zX8q",
        "colab_type": "code",
        "colab": {}
      },
      "source": [
        "from google.colab import drive\n",
        "drive.mount('/content/drive')"
      ],
      "execution_count": 0,
      "outputs": []
    },
    {
      "cell_type": "code",
      "metadata": {
        "id": "K-ssu76cxgLR",
        "colab_type": "code",
        "colab": {}
      },
      "source": [
        "import pandas as pd\n",
        "from sklearn import preprocessing\n",
        "from sklearn.model_selection import train_test_split\n",
        "from sklearn.neural_network import MLPClassifier\n",
        "from sklearn.model_selection import GridSearchCV\n",
        "import numpy as np"
      ],
      "execution_count": 0,
      "outputs": []
    },
    {
      "cell_type": "code",
      "metadata": {
        "id": "X_DN1GBdzqnq",
        "colab_type": "code",
        "colab": {}
      },
      "source": [
        "def processData(data):\n",
        "  copy = data.drop(['Sex'], axis=1)\n",
        "  copy.fillna(0, inplace=True) #Replacing all missing data with 0\n",
        "  copy['Cabin'][copy['Cabin'] != 0] = 1\n",
        "  xEncoder = preprocessing.OneHotEncoder(handle_unknown='ignore')\n",
        "  x1 = data[['Sex']]\n",
        "  xEncoder.fit(x1)\n",
        "  x1 = xEncoder.transform(x1).toarray()\n",
        "  df = pd.DataFrame(data=x1, columns=['Male', 'Female'])\n",
        "  output = pd.concat([copy, df], axis=1)\n",
        "  output=(output-output.min())/(output.max()-output.min()) #MinMax normalization\n",
        "  #print('After normalization')\n",
        "  #print(output.head())\n",
        "  return output"
      ],
      "execution_count": 0,
      "outputs": []
    },
    {
      "cell_type": "code",
      "metadata": {
        "id": "gEScgr0V07ia",
        "colab_type": "code",
        "colab": {}
      },
      "source": [
        "df = pd.read_csv('/content/drive/My Drive/Dataset/Titanic/train.csv', header=0)\n",
        "train, test = train_test_split(df, test_size=0.2)\n",
        "train.reset_index(inplace=True, drop=True)\n",
        "test.reset_index(inplace=True, drop=True)\n",
        "trainX = train.drop(['Survived', 'PassengerId', 'Name', 'Ticket', 'Embarked'], axis=1)\n",
        "testX = test.drop(['Survived', 'PassengerId', 'Name', 'Ticket', 'Embarked'], axis=1)\n",
        "trainY = train[['Survived']]\n",
        "testY = test[['Survived']]\n",
        "trainX = processData(trainX)\n",
        "testX = processData(testX)"
      ],
      "execution_count": 0,
      "outputs": []
    },
    {
      "cell_type": "code",
      "metadata": {
        "id": "1dfLUI5xWsdg",
        "colab_type": "code",
        "outputId": "afdfd852-7afc-488a-bfd5-de2e8f36dfd7",
        "colab": {
          "base_uri": "https://localhost:8080/",
          "height": 87
        }
      },
      "source": [
        "singleNN = MLPClassifier(max_iter=500, solver='sgd',learning_rate='adaptive', random_state=42, learning_rate_init=1.5, batch_size=600, hidden_layer_sizes=5000, alpha=0.00005)\n",
        "singleNN.fit(trainX, trainY.values.ravel())\n",
        "print('k')\n",
        "print(singleNN.score(testX, testY))\n",
        "print('k')\n",
        "singleNN.score(trainX, trainY)"
      ],
      "execution_count": 31,
      "outputs": [
        {
          "output_type": "stream",
          "text": [
            "k\n",
            "0.8044692737430168\n",
            "k\n"
          ],
          "name": "stdout"
        },
        {
          "output_type": "execute_result",
          "data": {
            "text/plain": [
              "0.8441011235955056"
            ]
          },
          "metadata": {
            "tags": []
          },
          "execution_count": 31
        }
      ]
    },
    {
      "cell_type": "code",
      "metadata": {
        "id": "I41nxJvsX4IA",
        "colab_type": "code",
        "colab": {}
      },
      "source": [
        "hyperPara = {'solver':['adam', 'sgd'], 'learning_rate':['adaptive', 'constant'], 'learning_rate_init':np.linspace(0.8, 2, 7), 'shuffle':[True, False]}\n",
        "gsNN = GridSearchCV(MLPClassifier(solver='sgd', max_iter=500, random_state=42, hidden_layer_sizes=5000, batch_size=600), hyperPara)\n",
        "gsNN.fit(trainX, trainY.values.ravel())"
      ],
      "execution_count": 0,
      "outputs": []
    },
    {
      "cell_type": "code",
      "metadata": {
        "id": "-_CAaslmaShB",
        "colab_type": "code",
        "outputId": "b89597b8-c43f-4b4d-da3e-6a451033b9ff",
        "colab": {
          "base_uri": "https://localhost:8080/",
          "height": 52
        }
      },
      "source": [
        "print(gsNN.best_params_)\n",
        "gsNN.score(testX, testY)"
      ],
      "execution_count": 25,
      "outputs": [
        {
          "output_type": "stream",
          "text": [
            "{'learning_rate': 'constant', 'learning_rate_init': 1.7999999999999998, 'shuffle': True, 'solver': 'sgd'}\n"
          ],
          "name": "stdout"
        },
        {
          "output_type": "execute_result",
          "data": {
            "text/plain": [
              "0.7821229050279329"
            ]
          },
          "metadata": {
            "tags": []
          },
          "execution_count": 25
        }
      ]
    },
    {
      "cell_type": "code",
      "metadata": {
        "id": "0PPv85JyYlOU",
        "colab_type": "code",
        "colab": {}
      },
      "source": [
        "hyperPara2 = {'learning_rate_init':np.linspace(0.8, 2, 7), 'shuffle':[True, False], 'momentum':[0.9, 0.6, 0.3], 'alpha':[0.00005, 0.0001]}\n",
        "sgdNN = GridSearchCV(MLPClassifier(solver='sgd', learning_rate='adaptive', max_iter=500, random_state=42, hidden_layer_sizes=1000, batch_size=400), hyperPara2)\n",
        "sgdNN.fit(trainX, trainY.values.ravel())"
      ],
      "execution_count": 0,
      "outputs": []
    },
    {
      "cell_type": "code",
      "metadata": {
        "id": "PhDVQfIjZ-yu",
        "colab_type": "code",
        "colab": {
          "base_uri": "https://localhost:8080/",
          "height": 52
        },
        "outputId": "cec1ee6e-f732-414b-b2ef-972a71fe5719"
      },
      "source": [
        "print(sgdNN.best_params_)\n",
        "sgdNN.score(testX, testY)"
      ],
      "execution_count": 30,
      "outputs": [
        {
          "output_type": "stream",
          "text": [
            "{'alpha': 5e-05, 'learning_rate_init': 1.0, 'momentum': 0.6, 'shuffle': True}\n"
          ],
          "name": "stdout"
        },
        {
          "output_type": "execute_result",
          "data": {
            "text/plain": [
              "0.7932960893854749"
            ]
          },
          "metadata": {
            "tags": []
          },
          "execution_count": 30
        }
      ]
    }
  ]
}