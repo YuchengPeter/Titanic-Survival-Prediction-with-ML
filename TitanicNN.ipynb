{
  "nbformat": 4,
  "nbformat_minor": 0,
  "metadata": {
    "colab": {
      "name": "TitanicNN.ipynb",
      "provenance": []
    },
    "kernelspec": {
      "name": "python3",
      "display_name": "Python 3"
    }
  },
  "cells": [
    {
      "cell_type": "code",
      "metadata": {
        "id": "Rwl26KW1zX8q",
        "colab_type": "code",
        "colab": {}
      },
      "source": [
        "from google.colab import drive\n",
        "drive.mount('/content/drive')"
      ],
      "execution_count": 0,
      "outputs": []
    },
    {
      "cell_type": "code",
      "metadata": {
        "id": "K-ssu76cxgLR",
        "colab_type": "code",
        "colab": {}
      },
      "source": [
        "import pandas as pd\n",
        "from sklearn import preprocessing\n",
        "from sklearn.model_selection import train_test_split\n",
        "from sklearn.neural_network import MLPClassifier\n",
        "from sklearn.model_selection import GridSearchCV\n",
        "import numpy as np"
      ],
      "execution_count": 0,
      "outputs": []
    },
    {
      "cell_type": "code",
      "metadata": {
        "id": "X_DN1GBdzqnq",
        "colab_type": "code",
        "colab": {}
      },
      "source": [
        "def processData(data):\n",
        "  copy = data.drop(['Sex'], axis=1)\n",
        "  copy.fillna(0, inplace=True) #Replacing all missing data with 0\n",
        "  copy['Cabin'][copy['Cabin'] != 0] = 1\n",
        "  xEncoder = preprocessing.OneHotEncoder(handle_unknown='ignore')\n",
        "  x1 = data[['Sex']]\n",
        "  xEncoder.fit(x1)\n",
        "  x1 = xEncoder.transform(x1).toarray()\n",
        "  df = pd.DataFrame(data=x1, columns=['Male', 'Female'])\n",
        "  output = pd.concat([copy, df], axis=1)\n",
        "  output=(output-output.min())/(output.max()-output.min()) #MinMax normalization\n",
        "  #print('After normalization')\n",
        "  #print(output.head())\n",
        "  return output"
      ],
      "execution_count": 0,
      "outputs": []
    },
    {
      "cell_type": "code",
      "metadata": {
        "id": "gEScgr0V07ia",
        "colab_type": "code",
        "colab": {}
      },
      "source": [
        "df = pd.read_csv('/content/drive/My Drive/Dataset/Titanic/train.csv', header=0)\n",
        "train, test = train_test_split(df, test_size=0.2)\n",
        "train.reset_index(inplace=True, drop=True)\n",
        "test.reset_index(inplace=True, drop=True)\n",
        "trainX = train.drop(['Survived', 'PassengerId', 'Name', 'Ticket', 'Embarked'], axis=1)\n",
        "testX = test.drop(['Survived', 'PassengerId', 'Name', 'Ticket', 'Embarked'], axis=1)\n",
        "trainY = train[['Survived']]\n",
        "testY = test[['Survived']]\n",
        "trainX = processData(trainX)\n",
        "testX = processData(testX)"
      ],
      "execution_count": 0,
      "outputs": []
    },
    {
      "cell_type": "code",
      "metadata": {
        "id": "1dfLUI5xWsdg",
        "colab_type": "code",
        "colab": {
          "base_uri": "https://localhost:8080/",
          "height": 89
        },
        "outputId": "c9f51fbe-a30c-45f0-ae24-770a38954f0d"
      },
      "source": [
        "singleNN = MLPClassifier(solver='sgd',learning_rate='adaptive', random_state=42)\n",
        "singleNN.fit(trainX, trainY.values.ravel())\n",
        "singleNN.score(testX, testY)"
      ],
      "execution_count": 33,
      "outputs": [
        {
          "output_type": "stream",
          "text": [
            "/usr/local/lib/python3.6/dist-packages/sklearn/neural_network/multilayer_perceptron.py:566: ConvergenceWarning: Stochastic Optimizer: Maximum iterations (200) reached and the optimization hasn't converged yet.\n",
            "  % self.max_iter, ConvergenceWarning)\n"
          ],
          "name": "stderr"
        },
        {
          "output_type": "execute_result",
          "data": {
            "text/plain": [
              "0.7653631284916201"
            ]
          },
          "metadata": {
            "tags": []
          },
          "execution_count": 33
        }
      ]
    },
    {
      "cell_type": "code",
      "metadata": {
        "id": "I41nxJvsX4IA",
        "colab_type": "code",
        "colab": {
          "base_uri": "https://localhost:8080/",
          "height": 419
        },
        "outputId": "faa0553d-4316-428e-a0fc-24ea6566e131"
      },
      "source": [
        "hyperPara = {'solver':['adam', 'sgd'],'hidden_layer_sizes':[100, 150, 200], 'learning_rate':['adaptive', 'constant'], 'learning_rate_init':np.linspace(0.01, 0.1, 6)}\n",
        "gsNN = GridSearchCV(MLPClassifier(solver='sgd', max_iter=1000, random_state=42), hyperPara)\n",
        "gsNN.fit(trainX, trainY.values.ravel())"
      ],
      "execution_count": 43,
      "outputs": [
        {
          "output_type": "stream",
          "text": [
            "/usr/local/lib/python3.6/dist-packages/sklearn/model_selection/_split.py:1978: FutureWarning: The default value of cv will change from 3 to 5 in version 0.22. Specify it explicitly to silence this warning.\n",
            "  warnings.warn(CV_WARNING, FutureWarning)\n"
          ],
          "name": "stderr"
        },
        {
          "output_type": "execute_result",
          "data": {
            "text/plain": [
              "GridSearchCV(cv='warn', error_score='raise-deprecating',\n",
              "             estimator=MLPClassifier(activation='relu', alpha=0.0001,\n",
              "                                     batch_size='auto', beta_1=0.9,\n",
              "                                     beta_2=0.999, early_stopping=False,\n",
              "                                     epsilon=1e-08, hidden_layer_sizes=(100,),\n",
              "                                     learning_rate='constant',\n",
              "                                     learning_rate_init=0.001, max_iter=1000,\n",
              "                                     momentum=0.9, n_iter_no_change=10,\n",
              "                                     nesterovs_momentum=True, power_t=0.5,\n",
              "                                     rand...\n",
              "                                     solver='sgd', tol=0.0001,\n",
              "                                     validation_fraction=0.1, verbose=False,\n",
              "                                     warm_start=False),\n",
              "             iid='warn', n_jobs=None,\n",
              "             param_grid={'hidden_layer_sizes': [100, 150, 200],\n",
              "                         'learning_rate': ['adaptive', 'constant'],\n",
              "                         'learning_rate_init': array([0.01 , 0.028, 0.046, 0.064, 0.082, 0.1  ]),\n",
              "                         'solver': ['adam', 'sgd']},\n",
              "             pre_dispatch='2*n_jobs', refit=True, return_train_score=False,\n",
              "             scoring=None, verbose=0)"
            ]
          },
          "metadata": {
            "tags": []
          },
          "execution_count": 43
        }
      ]
    },
    {
      "cell_type": "code",
      "metadata": {
        "id": "-_CAaslmaShB",
        "colab_type": "code",
        "colab": {
          "base_uri": "https://localhost:8080/",
          "height": 52
        },
        "outputId": "cea8d2f2-0f9c-441f-8676-8f6dbb64058f"
      },
      "source": [
        "print(gsNN.best_params_)\n",
        "gsNN.score(testX, testY)"
      ],
      "execution_count": 44,
      "outputs": [
        {
          "output_type": "stream",
          "text": [
            "{'hidden_layer_sizes': 100, 'learning_rate': 'adaptive', 'learning_rate_init': 0.064, 'solver': 'sgd'}\n"
          ],
          "name": "stdout"
        },
        {
          "output_type": "execute_result",
          "data": {
            "text/plain": [
              "0.8212290502793296"
            ]
          },
          "metadata": {
            "tags": []
          },
          "execution_count": 44
        }
      ]
    }
  ]
}