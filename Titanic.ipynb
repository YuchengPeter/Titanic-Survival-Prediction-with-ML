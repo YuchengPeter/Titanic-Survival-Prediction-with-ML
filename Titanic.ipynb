{
  "nbformat": 4,
  "nbformat_minor": 0,
  "metadata": {
    "colab": {
      "name": "Titanic.ipynb",
      "provenance": [],
      "collapsed_sections": []
    },
    "kernelspec": {
      "name": "python3",
      "display_name": "Python 3"
    }
  },
  "cells": [
    {
      "cell_type": "code",
      "metadata": {
        "id": "J22mde3KxPgn",
        "colab_type": "code",
        "colab": {}
      },
      "source": [
        "#!pip install tensorflow==2.0.0"
      ],
      "execution_count": 0,
      "outputs": []
    },
    {
      "cell_type": "code",
      "metadata": {
        "id": "opCac3aqx0ht",
        "colab_type": "code",
        "colab": {}
      },
      "source": [
        "import pandas as pd\n",
        "from sklearn.tree import DecisionTreeClassifier\n",
        "from sklearn import preprocessing"
      ],
      "execution_count": 0,
      "outputs": []
    },
    {
      "cell_type": "code",
      "metadata": {
        "id": "qA2AaMD6x6Lj",
        "colab_type": "code",
        "colab": {}
      },
      "source": [
        "from google.colab import drive\n",
        "drive.mount('/content/drive')"
      ],
      "execution_count": 0,
      "outputs": []
    },
    {
      "cell_type": "markdown",
      "metadata": {
        "id": "5j7mh6zi2KKG",
        "colab_type": "text"
      },
      "source": [
        "Following function will process the data before it is fed into the model for training or predicting. Sex will be encoded with one-hot encoding scheme and other features such as age and fare will be normalized as they are ordinal."
      ]
    },
    {
      "cell_type": "code",
      "metadata": {
        "id": "P2163KV2pOXt",
        "colab_type": "code",
        "colab": {}
      },
      "source": [
        "def processData(data):\n",
        "  copy = data.drop(['Sex'], axis=1)\n",
        "  copy['Cabin'].fillna(0, inplace=True)\n",
        "  copy['Cabin'][copy['Cabin'] != 0] = 1\n",
        "  xEncoder = preprocessing.OneHotEncoder(handle_unknown='ignore')\n",
        "  x1 = data[['Sex']]\n",
        "  xEncoder.fit(x1)\n",
        "  x1 = xEncoder.transform(x1).toarray()\n",
        "  print(x1)\n",
        "  df = pd.DataFrame(data=x1, columns=['Male', 'Female'])\n",
        "  print(df.head())\n",
        "  output = copy.append(df)\n",
        "  print(output.head())\n",
        "  return output"
      ],
      "execution_count": 0,
      "outputs": []
    },
    {
      "cell_type": "code",
      "metadata": {
        "id": "BCBpNV0T0Sjd",
        "colab_type": "code",
        "colab": {}
      },
      "source": [
        "trainDF = pd.read_csv('/content/drive/My Drive/Dataset/Titanic/train.csv', header=0)\n",
        "#print(trainDF.head())\n",
        "trainX = trainDF.drop(['Survived', 'Name', 'Ticket', 'Embarked'], axis=1)\n",
        "trainY = trainDF[['Survived']]\n",
        "print(trainX.head())\n",
        "#print(trainY.head())\n",
        "trainX = processData(trainX)"
      ],
      "execution_count": 0,
      "outputs": []
    },
    {
      "cell_type": "code",
      "metadata": {
        "id": "7YWImaWr5G5H",
        "colab_type": "code",
        "colab": {}
      },
      "source": [
        "DT = DecisionTreeClassifier(criterion='entropy')\n",
        "DT.fit(trainX, trainY)"
      ],
      "execution_count": 0,
      "outputs": []
    }
  ]
}